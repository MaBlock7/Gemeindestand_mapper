{
 "cells": [
  {
   "cell_type": "code",
   "execution_count": 4,
   "metadata": {},
   "outputs": [],
   "source": [
    "from pathlib import Path\n",
    "import pandas as pd\n",
    "\n",
    "from utils.mapper import GemeindeMapper\n",
    "\n",
    "# Constants\n",
    "SOURCE_PATH = Path('../bfs_source_data/')\n",
    "TARGET_PATH = Path('../results')"
   ]
  },
  {
   "cell_type": "code",
   "execution_count": 5,
   "metadata": {},
   "outputs": [],
   "source": [
    "gemeinde_mapper = GemeindeMapper()"
   ]
  },
  {
   "cell_type": "code",
   "execution_count": 6,
   "metadata": {},
   "outputs": [
    {
     "name": "stdout",
     "output_type": "stream",
     "text": [
      "Found territory shared by several municipalities of Switzerland (Kommunanz)!\n",
      "                  Temporarily removing [5238] for Gemeindestands search...\n",
      "Inferred Gemeindestand: 01-05-2022\n",
      "Mapped DataFrame from 01-05-2022 to 01-01-2023 Gemeindestand.\n"
     ]
    }
   ],
   "source": [
    "df = pd.read_excel(SOURCE_PATH / \"Gleiche Rechte für Mann und Frau.xlsx\", header=2, nrows=2396)\n",
    "\n",
    "col_names = ['gmde_stand_old', 'gmde_name_old'] + df.columns[4:].to_list()\n",
    "df = df.drop(columns=['Unnamed: 2', 'Unnamed: 3'])\n",
    "df.columns = col_names\n",
    "\n",
    "df = df[df.gmde_name_old.str.contains('...', regex=False)]\n",
    "df = df[df['gmde_stand_old'].astype(int) < 7000]\n",
    "\n",
    "df['gmde_stand_old'] = [int(num.lstrip('0')) for num in df['gmde_stand_old']]\n",
    "\n",
    "df['gmde_name_old'] = [name.strip('.') for name in df.gmde_name_old]\n",
    "\n",
    "df = gemeinde_mapper.map_gemeindestand(df, 'gmde_stand_old')"
   ]
  },
  {
   "cell_type": "code",
   "execution_count": 4,
   "metadata": {},
   "outputs": [],
   "source": [
    "df.to_excel(TARGET_PATH / 'Abstimmung_1981_mapped.xlsx', index=False)"
   ]
  },
  {
   "cell_type": "code",
   "execution_count": 5,
   "metadata": {},
   "outputs": [
    {
     "data": {
      "text/html": [
       "<div>\n",
       "<style scoped>\n",
       "    .dataframe tbody tr th:only-of-type {\n",
       "        vertical-align: middle;\n",
       "    }\n",
       "\n",
       "    .dataframe tbody tr th {\n",
       "        vertical-align: top;\n",
       "    }\n",
       "\n",
       "    .dataframe thead th {\n",
       "        text-align: right;\n",
       "    }\n",
       "</style>\n",
       "<table border=\"1\" class=\"dataframe\">\n",
       "  <thead>\n",
       "    <tr style=\"text-align: right;\">\n",
       "      <th></th>\n",
       "      <th>gmde_stand_old</th>\n",
       "      <th>gmde_name_old</th>\n",
       "      <th>Stimmberechtigte</th>\n",
       "      <th>Abgegebene Stimmen</th>\n",
       "      <th>Beteiligung in %</th>\n",
       "      <th>Gültige Stimmzettel</th>\n",
       "      <th>Ja</th>\n",
       "      <th>Nein</th>\n",
       "      <th>Ja in %</th>\n",
       "      <th>gmde_stand_new</th>\n",
       "      <th>gmde_name_new</th>\n",
       "    </tr>\n",
       "  </thead>\n",
       "  <tbody>\n",
       "    <tr>\n",
       "      <th>1715</th>\n",
       "      <td>5238</td>\n",
       "      <td>Monteceneri</td>\n",
       "      <td>1742</td>\n",
       "      <td>465</td>\n",
       "      <td>26.69</td>\n",
       "      <td>454</td>\n",
       "      <td>233</td>\n",
       "      <td>221</td>\n",
       "      <td>51.32</td>\n",
       "      <td>5238</td>\n",
       "      <td>Monteceneri</td>\n",
       "    </tr>\n",
       "  </tbody>\n",
       "</table>\n",
       "</div>"
      ],
      "text/plain": [
       "      gmde_stand_old gmde_name_old Stimmberechtigte Abgegebene Stimmen  \\\n",
       "1715            5238   Monteceneri             1742                465   \n",
       "\n",
       "     Beteiligung in % Gültige Stimmzettel   Ja Nein Ja in %  gmde_stand_new  \\\n",
       "1715            26.69                 454  233  221   51.32            5238   \n",
       "\n",
       "     gmde_name_new  \n",
       "1715   Monteceneri  "
      ]
     },
     "execution_count": 5,
     "metadata": {},
     "output_type": "execute_result"
    }
   ],
   "source": [
    "df[df.gmde_stand_old == 5238]"
   ]
  },
  {
   "cell_type": "code",
   "execution_count": null,
   "metadata": {},
   "outputs": [],
   "source": []
  }
 ],
 "metadata": {
  "kernelspec": {
   "display_name": ".env",
   "language": "python",
   "name": "python3"
  },
  "language_info": {
   "codemirror_mode": {
    "name": "ipython",
    "version": 3
   },
   "file_extension": ".py",
   "mimetype": "text/x-python",
   "name": "python",
   "nbconvert_exporter": "python",
   "pygments_lexer": "ipython3",
   "version": "3.11.5"
  },
  "orig_nbformat": 4,
  "vscode": {
   "interpreter": {
    "hash": "85c32ffbdb1d10b2dff30784069d3e798c3364f02ce7bdf1f464c83d3450b9b1"
   }
  }
 },
 "nbformat": 4,
 "nbformat_minor": 2
}
