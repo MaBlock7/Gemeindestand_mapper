{
 "cells": [
  {
   "cell_type": "code",
   "execution_count": 1,
   "metadata": {},
   "outputs": [],
   "source": [
    "from pathlib import Path\n",
    "import numpy as np\n",
    "import pandas as pd\n",
    "from mapper import GemeindeMapper\n",
    "\n",
    "gm = GemeindeMapper()\n",
    "\n",
    "# Constants\n",
    "SOURCE_PATH = Path('../raw')\n",
    "TARGET_PATH = Path('../results')\n",
    "\n",
    "# Set the file path\n",
    "FOLDER = 'RMA'\n",
    "FILE_NAME = 'RMA.xlsx'\n",
    "\n",
    "(TARGET_PATH / FOLDER).mkdir(parents=True, exist_ok=True)"
   ]
  },
  {
   "cell_type": "code",
   "execution_count": 2,
   "metadata": {},
   "outputs": [],
   "source": [
    "def rename_original_columns(df, code_col, name_col, origin):\n",
    "    return df.rename(columns={\n",
    "        code_col: f\"bfs_gmde_nummer_{origin}\",\n",
    "        name_col: f\"bfs_gmde_name_{origin}\"\n",
    "    })"
   ]
  },
  {
   "cell_type": "code",
   "execution_count": 3,
   "metadata": {},
   "outputs": [
    {
     "data": {
      "text/html": [
       "<div>\n",
       "<style scoped>\n",
       "    .dataframe tbody tr th:only-of-type {\n",
       "        vertical-align: middle;\n",
       "    }\n",
       "\n",
       "    .dataframe tbody tr th {\n",
       "        vertical-align: top;\n",
       "    }\n",
       "\n",
       "    .dataframe thead th {\n",
       "        text-align: right;\n",
       "    }\n",
       "</style>\n",
       "<table border=\"1\" class=\"dataframe\">\n",
       "  <thead>\n",
       "    <tr style=\"text-align: right;\">\n",
       "      <th></th>\n",
       "      <th>Kantons-Nr.</th>\n",
       "      <th>Kanton</th>\n",
       "      <th>bfs_gmde_nummer_2016</th>\n",
       "      <th>bfs_gmde_name_2016</th>\n",
       "      <th>Stimmberechtigte</th>\n",
       "      <th>Abgegebene Stimmen</th>\n",
       "      <th>Stimmbeteiligung</th>\n",
       "      <th>Leere</th>\n",
       "      <th>Ungültige</th>\n",
       "      <th>Gültige</th>\n",
       "      <th>Ja-Stimmen</th>\n",
       "      <th>Nein-Stimmen</th>\n",
       "      <th>Ja in %</th>\n",
       "    </tr>\n",
       "  </thead>\n",
       "  <tbody>\n",
       "    <tr>\n",
       "      <th>0</th>\n",
       "      <td>1</td>\n",
       "      <td>ZH</td>\n",
       "      <td>1</td>\n",
       "      <td>Aeugst am Albis</td>\n",
       "      <td>1395</td>\n",
       "      <td>718</td>\n",
       "      <td>51.469534</td>\n",
       "      <td>16</td>\n",
       "      <td>0</td>\n",
       "      <td>702</td>\n",
       "      <td>457</td>\n",
       "      <td>245</td>\n",
       "      <td>65.099715</td>\n",
       "    </tr>\n",
       "    <tr>\n",
       "      <th>1</th>\n",
       "      <td>1</td>\n",
       "      <td>ZH</td>\n",
       "      <td>2</td>\n",
       "      <td>Affoltern am Albis</td>\n",
       "      <td>7057</td>\n",
       "      <td>3211</td>\n",
       "      <td>45.500921</td>\n",
       "      <td>104</td>\n",
       "      <td>0</td>\n",
       "      <td>3107</td>\n",
       "      <td>1864</td>\n",
       "      <td>1243</td>\n",
       "      <td>59.993563</td>\n",
       "    </tr>\n",
       "    <tr>\n",
       "      <th>2</th>\n",
       "      <td>1</td>\n",
       "      <td>ZH</td>\n",
       "      <td>3</td>\n",
       "      <td>Bonstetten</td>\n",
       "      <td>3561</td>\n",
       "      <td>1956</td>\n",
       "      <td>54.928391</td>\n",
       "      <td>70</td>\n",
       "      <td>0</td>\n",
       "      <td>1886</td>\n",
       "      <td>1254</td>\n",
       "      <td>632</td>\n",
       "      <td>66.489926</td>\n",
       "    </tr>\n",
       "    <tr>\n",
       "      <th>3</th>\n",
       "      <td>1</td>\n",
       "      <td>ZH</td>\n",
       "      <td>4</td>\n",
       "      <td>Hausen am Albis</td>\n",
       "      <td>2429</td>\n",
       "      <td>1262</td>\n",
       "      <td>51.955537</td>\n",
       "      <td>56</td>\n",
       "      <td>0</td>\n",
       "      <td>1206</td>\n",
       "      <td>714</td>\n",
       "      <td>492</td>\n",
       "      <td>59.203980</td>\n",
       "    </tr>\n",
       "    <tr>\n",
       "      <th>4</th>\n",
       "      <td>1</td>\n",
       "      <td>ZH</td>\n",
       "      <td>5</td>\n",
       "      <td>Hedingen</td>\n",
       "      <td>2497</td>\n",
       "      <td>1373</td>\n",
       "      <td>54.985983</td>\n",
       "      <td>48</td>\n",
       "      <td>0</td>\n",
       "      <td>1325</td>\n",
       "      <td>871</td>\n",
       "      <td>454</td>\n",
       "      <td>65.735849</td>\n",
       "    </tr>\n",
       "  </tbody>\n",
       "</table>\n",
       "</div>"
      ],
      "text/plain": [
       "   Kantons-Nr. Kanton  bfs_gmde_nummer_2016  bfs_gmde_name_2016  \\\n",
       "0            1     ZH                     1     Aeugst am Albis   \n",
       "1            1     ZH                     2  Affoltern am Albis   \n",
       "2            1     ZH                     3          Bonstetten   \n",
       "3            1     ZH                     4     Hausen am Albis   \n",
       "4            1     ZH                     5            Hedingen   \n",
       "\n",
       "   Stimmberechtigte  Abgegebene Stimmen  Stimmbeteiligung  Leere  Ungültige  \\\n",
       "0              1395                 718         51.469534     16          0   \n",
       "1              7057                3211         45.500921    104          0   \n",
       "2              3561                1956         54.928391     70          0   \n",
       "3              2429                1262         51.955537     56          0   \n",
       "4              2497                1373         54.985983     48          0   \n",
       "\n",
       "   Gültige  Ja-Stimmen  Nein-Stimmen    Ja in %  \n",
       "0      702         457           245  65.099715  \n",
       "1     3107        1864          1243  59.993563  \n",
       "2     1886        1254           632  66.489926  \n",
       "3     1206         714           492  59.203980  \n",
       "4     1325         871           454  65.735849  "
      ]
     },
     "execution_count": 3,
     "metadata": {},
     "output_type": "execute_result"
    }
   ],
   "source": [
    "# Load the data to map\n",
    "suffix = FILE_NAME.split('.')[-1]\n",
    "if suffix == 'csv':\n",
    "    df = pd.read_csv(SOURCE_PATH / FOLDER / FILE_NAME)\n",
    "elif suffix == 'xlsx':\n",
    "    df = pd.read_excel(SOURCE_PATH / FOLDER / FILE_NAME)\n",
    "else:\n",
    "    print(f'file .{suffix} format not supported!')\n",
    "df.head()"
   ]
  },
  {
   "cell_type": "code",
   "execution_count": 4,
   "metadata": {},
   "outputs": [
    {
     "name": "stdout",
     "output_type": "stream",
     "text": [
      "Found territory shared by several municipalities of Switzerland (Kommunanz)!\n",
      "                  Temporarily removing [np.int64(5238)] for Gemeindestands search...\n",
      "Found lake (kant. Seeareal) or foreign territory!\n",
      "                  Temporarily removing [np.int64(9030), np.int64(9040), np.int64(9100), np.int64(9120), np.int64(9160), np.int64(9170), np.int64(9190), np.int64(9200), np.int64(9220), np.int64(9230), np.int64(9250)] for Gemeindestands search...\n",
      "Inferred Gemeindestand: 10-04-2016\n"
     ]
    }
   ],
   "source": [
    "# Try to automatically determine the gemeindestand of the data\n",
    "# It can happen that no gemeindestand can be found nor inferred, then you have to provide it yourself\n",
    "origin = gm.find_gemeindestand(df, 'bfs_gmde_nummer_2016')"
   ]
  },
  {
   "cell_type": "code",
   "execution_count": 5,
   "metadata": {},
   "outputs": [
    {
     "name": "stdout",
     "output_type": "stream",
     "text": [
      "Creating the mapping. This might take some time...\n"
     ]
    }
   ],
   "source": [
    "# Define the target gemeindestände to create the mapping\n",
    "targets = ['01-01-2016', '01-01-2017', '01-01-2018', '01-01-2019', '01-01-2020', '01-01-2021', '01-01-2022', '01-01-2023', '01-01-2024']\n",
    "\n",
    "mapping = await gm.create_multi_mapping(origin, targets)\n",
    "mapping"
   ]
  },
  {
   "cell_type": "code",
   "execution_count": 22,
   "metadata": {},
   "outputs": [],
   "source": [
    "# Rename the columns appropriately\n",
    "df = rename_original_columns(df, 'bfs_gmde_nummer_2016', 'bfs_gmde_name_2016', origin)\n",
    "\n",
    "# Merge the mapping \n",
    "df_merged = df.merge(mapping, on=[f'bfs_gmde_nummer_{origin}'], how='left')\n",
    "df_merged = df_merged.drop(columns=[f'bfs_gmde_name_{origin}_x']).rename(columns={f'bfs_gmde_name_{origin}_y': f'bfs_gmde_name_{origin}'})\n",
    "df_merged.to_excel(TARGET_PATH / FOLDER / f'{FILE_NAME.split('.')[0]}_mapped.xlsx', index=False)"
   ]
  }
 ],
 "metadata": {
  "kernelspec": {
   "display_name": ".env",
   "language": "python",
   "name": "python3"
  },
  "language_info": {
   "codemirror_mode": {
    "name": "ipython",
    "version": 3
   },
   "file_extension": ".py",
   "mimetype": "text/x-python",
   "name": "python",
   "nbconvert_exporter": "python",
   "pygments_lexer": "ipython3",
   "version": "3.12.4"
  },
  "orig_nbformat": 4,
  "vscode": {
   "interpreter": {
    "hash": "85c32ffbdb1d10b2dff30784069d3e798c3364f02ce7bdf1f464c83d3450b9b1"
   }
  }
 },
 "nbformat": 4,
 "nbformat_minor": 2
}
