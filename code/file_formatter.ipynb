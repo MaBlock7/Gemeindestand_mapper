{
 "cells": [
  {
   "cell_type": "code",
   "execution_count": 2,
   "metadata": {},
   "outputs": [],
   "source": [
    "import pandas as pd\n",
    "from pathlib import Path"
   ]
  },
  {
   "cell_type": "code",
   "execution_count": null,
   "metadata": {},
   "outputs": [],
   "source": [
    "SOURCE_DIR = Path('../data/raw')"
   ]
  },
  {
   "cell_type": "markdown",
   "metadata": {},
   "source": [
    "# FORMAT KLIMAGESETZ"
   ]
  },
  {
   "cell_type": "code",
   "execution_count": 58,
   "metadata": {},
   "outputs": [],
   "source": [
    "co2_gesetz = pd.read_excel(SOURCE_DIR / 'klimagesetz' / 'CO2-Gesetz.xlsx', sheet_name='Gemeinden', usecols=\"C:M\", header=5, skiprows=[6], nrows=2177)\n",
    "co2_gesetz = co2_gesetz.rename(columns={'Gemeinde-Nummer': 'bfs_gmde_nummer_2021', 'Gemeinde': 'bfs_gmde_name_2021'})"
   ]
  },
  {
   "cell_type": "code",
   "execution_count": 59,
   "metadata": {},
   "outputs": [],
   "source": [
    "klimagesetz = pd.read_excel(SOURCE_DIR / 'klimagesetz' / 'Klimagesetz.xlsx', sheet_name='Gemeinden', usecols=\"C:M\", header=5, skiprows=[6], nrows=2145)\n",
    "klimagesetz = klimagesetz.rename(columns={'Gemeinde-Nummer': 'bfs_gmde_nummer_2024', 'Gemeinde': 'bfs_gmde_name_2024'})"
   ]
  },
  {
   "cell_type": "code",
   "execution_count": 60,
   "metadata": {},
   "outputs": [],
   "source": [
    "solarinitiative = pd.read_excel(SOURCE_DIR / 'klimagesetz' / 'Solarinitiative.xlsx', sheet_name='Gemeinden', usecols=\"A:F\", header=4, skiprows=[5], nrows=2890)\n",
    "solarinitiative = solarinitiative.rename(columns={'code': 'bfs_gmde_nummer_2000', 'Gemeinden': 'bfs_gmde_name_2000'})"
   ]
  },
  {
   "cell_type": "code",
   "execution_count": 61,
   "metadata": {},
   "outputs": [],
   "source": [
    "verbands_initiative = pd.read_excel(SOURCE_DIR / 'klimagesetz' / 'Verbandsbeschwerderechts-Initiative.xlsx', sheet_name='Gemeinden', usecols=\"C:J\", header=4, skiprows=[5], nrows=2627)\n",
    "verbands_initiative = verbands_initiative.rename(columns={'Gemeinde-Nr.': 'bfs_gmde_nummer_2008', 'Gemeinden': 'bfs_gmde_name_2008'})"
   ]
  },
  {
   "cell_type": "code",
   "execution_count": 65,
   "metadata": {},
   "outputs": [],
   "source": [
    "for name, df in {'CO2-Gesetz': co2_gesetz, 'Klimagesetz': klimagesetz, 'Solarinitiative': solarinitiative, 'Verbandsbeschwerderechts-Initiative': verbands_initiative}.items():\n",
    "    df.to_csv(SOURCE_DIR / 'klimagesetz' / f'{name}_formatted.csv', index=False)"
   ]
  },
  {
   "cell_type": "markdown",
   "metadata": {},
   "source": [
    "# FORMAT AUSLAENDERABSTIMMUNGEN"
   ]
  },
  {
   "cell_type": "code",
   "execution_count": 4,
   "metadata": {},
   "outputs": [],
   "source": [
    "schwarzenbach1970 = pd.read_excel(SOURCE_DIR / 'auslaenderabstimmungen' / '1 Schwarzenbach1970.xlsx', sheet_name='Gemeinden')\n",
    "schwarzenbach1970 = schwarzenbach1970.rename(columns={'Nr..1': 'bfs_gmde_nummer_2021', 'Gemeinden': 'bfs_gmde_name_2021'})"
   ]
  },
  {
   "cell_type": "code",
   "execution_count": 5,
   "metadata": {},
   "outputs": [],
   "source": [
    "schwarzenbach1974 = pd.read_excel(SOURCE_DIR / 'auslaenderabstimmungen' / '2 Schwarzenbach1974.xlsx', sheet_name='Gemeinden')\n",
    "schwarzenbach1974 = schwarzenbach1974.rename(columns={'Nr..1': 'bfs_gmde_nummer_2021', 'Gemeinden': 'bfs_gmde_name_2021'})"
   ]
  },
  {
   "cell_type": "code",
   "execution_count": 6,
   "metadata": {},
   "outputs": [],
   "source": [
    "begrenzung = pd.read_excel(SOURCE_DIR / 'auslaenderabstimmungen' / '3 Begrenzungsinitiative2020.xlsx', sheet_name='Gemeinden')\n",
    "begrenzung = begrenzung.rename(columns={'Gemeinde-Nummer': 'bfs_gmde_nummer_2020', 'Gemeinde': 'bfs_gmde_name_2020'})"
   ]
  },
  {
   "cell_type": "code",
   "execution_count": 7,
   "metadata": {},
   "outputs": [],
   "source": [
    "mass_einw = pd.read_excel(SOURCE_DIR / 'auslaenderabstimmungen' / '4 Masseneinwanderung2014.xlsx', sheet_name='Gemeinden')\n",
    "mass_einw = mass_einw.rename(columns={'Gemeinde-Nr.': 'bfs_gmde_nummer_2014', 'Gemeinden': 'bfs_gmde_name_2014'})"
   ]
  },
  {
   "cell_type": "code",
   "execution_count": 8,
   "metadata": {},
   "outputs": [],
   "source": [
    "pers_frei = pd.read_excel(SOURCE_DIR / 'auslaenderabstimmungen' / '5 Personenfreizügigkeit2005.xlsx', sheet_name='Gemeinden')\n",
    "pers_frei = pers_frei.rename(columns={'code': 'bfs_gmde_nummer_2005', 'Gemeinden': 'bfs_gmde_name_2005'})"
   ]
  },
  {
   "cell_type": "code",
   "execution_count": 9,
   "metadata": {},
   "outputs": [],
   "source": [
    "buergerrecht = pd.read_excel(SOURCE_DIR / 'auslaenderabstimmungen' / '6 Bürgerrechtserwerb3generation2004.xlsx', sheet_name='Gemeinden')\n",
    "buergerrecht = buergerrecht.rename(columns={'code': 'bfs_gmde_nummer_2004', 'Gemeinden': 'bfs_gmde_name_2004'})"
   ]
  },
  {
   "cell_type": "code",
   "execution_count": 10,
   "metadata": {},
   "outputs": [],
   "source": [
    "einbuergerung = pd.read_excel(SOURCE_DIR / 'auslaenderabstimmungen' / '7 Einbürgerung2generation2004.xlsx', sheet_name='Gemeinden')\n",
    "einbuergerung = einbuergerung.rename(columns={'code': 'bfs_gmde_nummer_2004', 'Gemeinden': 'bfs_gmde_name_2004'})"
   ]
  },
  {
   "cell_type": "code",
   "execution_count": 11,
   "metadata": {},
   "outputs": [],
   "source": [
    "minarette = pd.read_excel(SOURCE_DIR / 'auslaenderabstimmungen' / '8 Minarette2009.xlsx', sheet_name='Gemeinden')\n",
    "minarette = minarette.rename(columns={'Gemeinde-Nr.': 'bfs_gmde_nummer_2009', 'Gemeinden': 'bfs_gmde_name_2009'})"
   ]
  },
  {
   "cell_type": "code",
   "execution_count": 12,
   "metadata": {},
   "outputs": [],
   "source": [
    "ausschaffung = pd.read_excel(SOURCE_DIR / 'auslaenderabstimmungen' / '9 Ausschaffungsinitiative2010.xlsx', sheet_name='Gemeinden')\n",
    "ausschaffung = ausschaffung.rename(columns={'Gemeinde-Nr.': 'bfs_gmde_nummer_2010', 'Gemeinden': 'bfs_gmde_name_2010'})"
   ]
  },
  {
   "cell_type": "code",
   "execution_count": 17,
   "metadata": {},
   "outputs": [],
   "source": [
    "auslaender = pd.read_excel(SOURCE_DIR / 'auslaenderabstimmungen' / 'auslaendergesetz2006.xlsx', sheet_name='Gemeinden')\n",
    "auslaender = auslaender.rename(columns={'code': 'bfs_gmde_nummer_2006', 'Gemeinden': 'bfs_gmde_name_2006'})"
   ]
  },
  {
   "cell_type": "code",
   "execution_count": 18,
   "metadata": {},
   "outputs": [],
   "source": [
    "begrenzung1988 = pd.read_excel(SOURCE_DIR / 'auslaenderabstimmungen' / 'begrenzung1988.xlsx', sheet_name='Gemeinden')\n",
    "begrenzung1988 = begrenzung1988.rename(columns={'code': 'bfs_gmde_nummer_1988', 'Gemeinden': 'bfs_gmde_name_1988'})"
   ]
  },
  {
   "cell_type": "code",
   "execution_count": 19,
   "metadata": {},
   "outputs": [],
   "source": [
    "ecopop = pd.read_excel(SOURCE_DIR / 'auslaenderabstimmungen' / 'ecopop2014.xlsx', sheet_name='Gemeinden')\n",
    "ecopop = ecopop.rename(columns={'Gemeinde-Nr.': 'bfs_gmde_nummer_2014', 'Gemeinden': 'bfs_gmde_name_2014'})"
   ]
  },
  {
   "cell_type": "code",
   "execution_count": 20,
   "metadata": {},
   "outputs": [],
   "source": [
    "einbuergerung2017 = pd.read_excel(SOURCE_DIR / 'auslaenderabstimmungen' / 'einbuergerung3generation2017.xlsx', sheet_name='Gemeinden')\n",
    "einbuergerung2017 = einbuergerung2017.rename(columns={'Gemeinde-Nr.': 'bfs_gmde_nummer_2017', 'Gemeinden': 'bfs_gmde_name_2017'})"
   ]
  },
  {
   "cell_type": "code",
   "execution_count": 21,
   "metadata": {},
   "outputs": [],
   "source": [
    "dataframes = {\n",
    "    '1 Schwarzenbach1970': schwarzenbach1970,\n",
    "    '2 Schwarzenbach1974': schwarzenbach1974,\n",
    "    '3 Begrenzungsinitiative2020': begrenzung,\n",
    "    '4 Masseneinwanderung2014': mass_einw,\n",
    "    '5 Personenfreizügigkeit2005': pers_frei,\n",
    "    '6 Bürgerrechtserwerb3generation2004': buergerrecht,\n",
    "    '7 Einbürgerung2generation2004': einbuergerung,\n",
    "    '8 Minarette2009': minarette,\n",
    "    '9 Ausschaffungsinitiative2010': ausschaffung,\n",
    "    'auslaendergesetz2006': auslaender,\n",
    "    'begrenzung1988': begrenzung1988,\n",
    "    'ecopop2014': ecopop,\n",
    "    'einbuergerung3generation2017': einbuergerung2017\n",
    "}\n",
    "for name, df in dataframes.items():\n",
    "    df.to_csv(SOURCE_DIR / 'auslaenderabstimmungen' / f'{name}_formatted.csv', index=False)"
   ]
  }
 ],
 "metadata": {
  "kernelspec": {
   "display_name": ".env",
   "language": "python",
   "name": "python3"
  },
  "language_info": {
   "codemirror_mode": {
    "name": "ipython",
    "version": 3
   },
   "file_extension": ".py",
   "mimetype": "text/x-python",
   "name": "python",
   "nbconvert_exporter": "python",
   "pygments_lexer": "ipython3",
   "version": "3.11.5"
  }
 },
 "nbformat": 4,
 "nbformat_minor": 2
}
