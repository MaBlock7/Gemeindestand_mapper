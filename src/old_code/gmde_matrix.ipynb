{
 "cells": [
  {
   "cell_type": "code",
   "execution_count": 41,
   "metadata": {},
   "outputs": [],
   "source": [
    "from datetime import date\n",
    "from pathlib import Path\n",
    "import argparse\n",
    "import networkx as nx\n",
    "import pandas as pd\n",
    "\n",
    "SOURCE_PATH = Path('../bfs_source_data/')\n",
    "TARGET_PATH = Path('../processed_data/')\n",
    "INIT_GMDE_FILE = 'Gemeindestand_31_05_1981.xlsx'\n",
    "MUTATION_FILE = 'Mutationen_1981_2023.xlsx'\n",
    "\n",
    "END = '2023-01-01'"
   ]
  },
  {
   "cell_type": "code",
   "execution_count": 42,
   "metadata": {},
   "outputs": [],
   "source": [
    "def read_files():\n",
    "    gemeindestaende = pd.read_excel(TARGET_PATH / 'Anzahl_Gemeinden_pro_Gemeindestand.xlsx', engine='openpyxl')\n",
    "    mutations = pd.read_excel(SOURCE_PATH / 'Mutationen_1981_2023.xlsx', header=1, engine='openpyxl')\n",
    "    \n",
    "    return gemeindestaende, mutations\n",
    "\n",
    "\n",
    "def process_column_names(df, suffix=False):\n",
    "    \"\"\"Function to process the column names of a DataFrame\n",
    "\n",
    "    Parameters\n",
    "    ----------\n",
    "    df: pd.DataFrame\n",
    "    suffix: bool\n",
    "        if True, adds (_old, _new) to columns of the same name\n",
    "\n",
    "    Returns\n",
    "    -------\n",
    "    pd.DataFrame\n",
    "    \"\"\"\n",
    "\n",
    "    if 'Mutationsnummer' in df.columns:\n",
    "        df = df.drop(columns='Mutationsnummer')\n",
    "\n",
    "    if suffix:\n",
    "        new_col_names = [c + '_old' if '.1' not in c else c[:-2] + '_new'\n",
    "                         for c in df.columns]\n",
    "        new_col_names[-1] = new_col_names[-1].replace('_old', '')\n",
    "        df.columns = new_col_names\n",
    "\n",
    "    df.columns = [c.lower().replace(' ', '_').replace('-', '_')\n",
    "                  for c in df.columns]\n",
    "\n",
    "    return df\n",
    "\n",
    "\n",
    "def build_graphs(initial_list, change_matrices):\n",
    "    \"\"\"Function to create a graph for each municipality\n",
    "    to represent changes such as merging, splitting, and\n",
    "    renaming of municipalities.\n",
    "\n",
    "    Parameters\n",
    "    ----------\n",
    "    initial_list: list\n",
    "        List of municipality numbers\n",
    "    change_matrices: Union[List | Tuples]\n",
    "        List of edges per Gemeindestand\n",
    "\n",
    "    Returns\n",
    "    -------\n",
    "    Union[dict | nx.DiGraph]\n",
    "    \"\"\"\n",
    "    # Create a dictionary to store the trees\n",
    "    graphs = {}\n",
    "\n",
    "    # Iterate over each element in the initial list\n",
    "    for root in initial_list:\n",
    "        # Create a directed graph\n",
    "        G = nx.DiGraph()\n",
    "        G.add_node(root)\n",
    "\n",
    "        # Iterate through the change matrices to build the graph\n",
    "        for edges in change_matrices:\n",
    "            for edge in edges:\n",
    "                original_value, new_value = edge\n",
    "                if original_value in G:\n",
    "                    G.add_node(new_value)\n",
    "                    G.add_edge(original_value, new_value)\n",
    "                    if (G.has_edge(original_value, original_value) & ((original_value, original_value) not in edges)):\n",
    "                        G.remove_edge(original_value, original_value)\n",
    "\n",
    "        # Store the graph in the dictionary\n",
    "        graphs[root] = G\n",
    "\n",
    "    return graphs"
   ]
  },
  {
   "cell_type": "code",
   "execution_count": 43,
   "metadata": {},
   "outputs": [
    {
     "name": "stderr",
     "output_type": "stream",
     "text": [
      "/Users/manuelbolz/opt/anaconda3/envs/py_env/lib/python3.10/site-packages/openpyxl/styles/stylesheet.py:226: UserWarning: Workbook contains no default style, apply openpyxl's default\n",
      "  warn(\"Workbook contains no default style, apply openpyxl's default\")\n"
     ]
    }
   ],
   "source": [
    "gemeindestaende, mutation_df = read_files()"
   ]
  },
  {
   "cell_type": "code",
   "execution_count": 44,
   "metadata": {},
   "outputs": [],
   "source": [
    "df = pd.read_excel(SOURCE_PATH / \"Gleiche Rechte für Mann und Frau.xlsx\", header=2, nrows=2396)\n",
    "\n",
    "col_names = ['gmde_stand_old', 'gmde_name_old'] + df.columns[4:].to_list()\n",
    "df = df.drop(columns=['Unnamed: 2', 'Unnamed: 3'])\n",
    "df.columns = col_names\n",
    "\n",
    "df = df[df.gmde_name_old.str.contains('...', regex=False)]\n",
    "df = df[df['gmde_stand_old'].astype(int) < 7000]\n",
    "\n",
    "df['gmde_stand_old'] = [int(num.lstrip('0')) for num in df['gmde_stand_old']]\n",
    "\n",
    "df['gmde_name_old'] = [name.strip('.') for name in df.gmde_name_old]"
   ]
  },
  {
   "cell_type": "code",
   "execution_count": 45,
   "metadata": {},
   "outputs": [],
   "source": [
    "gmde_stand = gemeindestaende[gemeindestaende.anz_gmde == df['gmde_stand_old'].nunique()].gemeindestand.values[0]"
   ]
  },
  {
   "cell_type": "code",
   "execution_count": 46,
   "metadata": {},
   "outputs": [
    {
     "data": {
      "text/plain": [
       "'2022-05-01'"
      ]
     },
     "execution_count": 46,
     "metadata": {},
     "output_type": "execute_result"
    }
   ],
   "source": [
    "gmde_stand"
   ]
  },
  {
   "cell_type": "code",
   "execution_count": 47,
   "metadata": {},
   "outputs": [],
   "source": [
    "start_df = pd.read_excel(TARGET_PATH / 'gmde_stde' / f'Gemeindestand_{gmde_stand}.xlsx')"
   ]
  },
  {
   "cell_type": "code",
   "execution_count": 48,
   "metadata": {},
   "outputs": [],
   "source": [
    "mutation_df = process_column_names(mutation_df, suffix=True)\n",
    "\n",
    "# add column with Gemeindestand\n",
    "mutation_df = mutation_df.rename(columns={'datum_der_aufnahme': 'gemeindestand'})"
   ]
  },
  {
   "cell_type": "code",
   "execution_count": 49,
   "metadata": {},
   "outputs": [],
   "source": [
    "mutation_df = mutation_df[mutation_df.gemeindestand >= gmde_stand]"
   ]
  },
  {
   "cell_type": "code",
   "execution_count": 50,
   "metadata": {},
   "outputs": [],
   "source": [
    "# GEMEINDESTAND-CREATOR\n",
    "\n",
    "l_init = start_df[gmde_stand].to_list() # Data 01.06.1981\n",
    "\n",
    "change_matrices = []\n",
    "for gemeindestand in mutation_df.gemeindestand.unique():\n",
    "    temp_df = mutation_df.query(\"gemeindestand == @gemeindestand\")\n",
    "    edges = list(zip(temp_df.bfs_gde_nummer_old, temp_df.bfs_gde_nummer_new))\n",
    "    change_matrices.append(edges)\n",
    "    \n",
    "for i, gemeindestand in enumerate(mutation_df.gemeindestand.unique()):\n",
    "    graphs = build_graphs(l_init, change_matrices[:i+1])\n",
    "    gemeinde_mapping = {}\n",
    "    for root, graph in graphs.items():\n",
    "        leaves = (\n",
    "            [node for node, out_degree in graph.out_degree() if out_degree == 0] \n",
    "            + [node for node in list(nx.nodes_with_selfloops(graph))]\n",
    "        )\n",
    "        gemeinde_mapping[root] = leaves\n",
    "\n",
    "\n",
    "# GEMEINDEMAPPING-TABLE\n",
    "\n",
    "col1 = []\n",
    "col2 = []\n",
    "for key, value in gemeinde_mapping.items():\n",
    "    for v in value:\n",
    "        col1.append(key)\n",
    "        col2.append(v)\n",
    "\n",
    "mapping = pd.DataFrame({gmde_stand: col1,\n",
    "                       END: col2})\n",
    "mapping.to_excel(TARGET_PATH / f'Gemeindemapping_{gmde_stand}_{END}.xlsx', index=False)"
   ]
  },
  {
   "cell_type": "code",
   "execution_count": 51,
   "metadata": {},
   "outputs": [],
   "source": [
    "df = df.rename(columns={'gmde_stand_old': gmde_stand})\n",
    "df = df.merge(mapping, on=gmde_stand, how='right')"
   ]
  },
  {
   "cell_type": "code",
   "execution_count": 52,
   "metadata": {},
   "outputs": [
    {
     "name": "stderr",
     "output_type": "stream",
     "text": [
      "/Users/manuelbolz/opt/anaconda3/envs/py_env/lib/python3.10/site-packages/openpyxl/styles/stylesheet.py:226: UserWarning: Workbook contains no default style, apply openpyxl's default\n",
      "  warn(\"Workbook contains no default style, apply openpyxl's default\")\n"
     ]
    }
   ],
   "source": [
    "gmde_names = pd.read_excel(SOURCE_PATH / 'Gemeindestand_01_01_2023.xlsx')\n",
    "gmde_names = gmde_names.rename(columns={'BFS Gde-nummer': END, 'Gemeindename': 'gmde_name_new'})"
   ]
  },
  {
   "cell_type": "code",
   "execution_count": 53,
   "metadata": {},
   "outputs": [],
   "source": [
    "df = df.merge(gmde_names[[END, 'gmde_name_new']], how='left', on=END)"
   ]
  },
  {
   "cell_type": "code",
   "execution_count": 55,
   "metadata": {},
   "outputs": [],
   "source": [
    "df.to_excel(SOURCE_PATH / 'Abstimmungsergebnisse_gmde_2023.xlsx', index=False)"
   ]
  },
  {
   "cell_type": "code",
   "execution_count": null,
   "metadata": {},
   "outputs": [],
   "source": []
  }
 ],
 "metadata": {
  "kernelspec": {
   "display_name": "py_env",
   "language": "python",
   "name": "python3"
  },
  "language_info": {
   "codemirror_mode": {
    "name": "ipython",
    "version": 3
   },
   "file_extension": ".py",
   "mimetype": "text/x-python",
   "name": "python",
   "nbconvert_exporter": "python",
   "pygments_lexer": "ipython3",
   "version": "3.10.9"
  },
  "orig_nbformat": 4,
  "vscode": {
   "interpreter": {
    "hash": "02783a7426c9453d4f5c8c7b0473cc4b0ff9542f141776fe8807015e1119b7ad"
   }
  }
 },
 "nbformat": 4,
 "nbformat_minor": 2
}
