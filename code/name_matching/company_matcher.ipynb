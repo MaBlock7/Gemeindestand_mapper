{
 "cells": [
  {
   "cell_type": "code",
   "execution_count": 46,
   "metadata": {},
   "outputs": [],
   "source": [
    "import re\n",
    "import unicodedata\n",
    "import pandas as pd\n",
    "from sklearn.feature_extraction.text import TfidfVectorizer\n",
    "from sklearn.metrics.pairwise import cosine_similarity\n",
    "from thefuzz import fuzz"
   ]
  },
  {
   "cell_type": "code",
   "execution_count": 47,
   "metadata": {},
   "outputs": [],
   "source": [
    "def normalize_company_name(name: str) -> str:\n",
    "    # Lowercase the name first\n",
    "    name = name.lower()\n",
    "\n",
    "    # Remove accents and special characters\n",
    "    name = ''.join(\n",
    "        c for c in unicodedata.normalize('NFD', name)\n",
    "        if unicodedata.category(c) != 'Mn'\n",
    "    )\n",
    "\n",
    "    # List of common company add-ons to remove (extendable)\n",
    "    common_addons = [\n",
    "        r'\\bag\\b', r'\\bgmbh\\b', r'\\binc\\b', r'\\bltd\\b', r'\\bllc\\b',\n",
    "        r'\\bs\\.?a\\.?\\b', r'\\bs\\.?a\\.?r\\.?l\\.?\\b', r'\\bkg\\b', r'\\bsagl\\b',\n",
    "        r'\\bklg\\b',\n",
    "        r'\\bco\\b', r'\\bsrl\\b', r'\\bspa\\b', r'\\bsnc\\b', r'\\bohg\\b',\n",
    "        r'\\bbv\\b', r'\\bnv\\b', r'\\bse\\b', r'\\bplc\\b', r'\\bcorp\\b', \n",
    "        r'\\bcorporation\\b', r'\\bholding\\b', r'\\bholdings\\b'\n",
    "    ]\n",
    "\n",
    "    # Remove common add-ons\n",
    "    for addon in common_addons:\n",
    "        name = re.sub(addon, '', name)\n",
    "\n",
    "    # Replace common symbols with spaces\n",
    "    name = re.sub(r'[&/]', ' ', name)\n",
    "\n",
    "    # Remove punctuation except for allowed characters (alphanumeric and whitespace)\n",
    "    name = re.sub(r'[^\\w\\s]', ' ', name)\n",
    "\n",
    "    # Remove extra whitespace\n",
    "    name = re.sub(r'\\s+', ' ', name)\n",
    "\n",
    "    return name\n",
    "\n",
    "\n",
    "def calculate_similarity_core(name1, name2):\n",
    "\n",
    "    tfidf = TfidfVectorizer(analyzer='char')\n",
    "    tfidf_matrix = tfidf.fit_transform([name1, name2])\n",
    "    tfidf_sim = cosine_similarity(tfidf_matrix[0:1], tfidf_matrix[1:2])[0][0]\n",
    "\n",
    "    # Levenshtein ratio\n",
    "    lev_ratio = fuzz.ratio(name1, name2) / 100\n",
    "    \n",
    "    # Partial ratio\n",
    "    part_ratio = fuzz.partial_ratio(name1, name2) / 100\n",
    "    \n",
    "    # Combine scores with weights\n",
    "    combined_score = (\n",
    "        0.2 * tfidf_sim +\n",
    "        0.2 * lev_ratio +\n",
    "        0.6 * part_ratio\n",
    "    )\n",
    "    \n",
    "    return combined_score"
   ]
  },
  {
   "cell_type": "code",
   "execution_count": 48,
   "metadata": {},
   "outputs": [],
   "source": [
    "merger_df = pd.read_csv('./merger_relation.csv', sep=';')"
   ]
  },
  {
   "cell_type": "code",
   "execution_count": 49,
   "metadata": {},
   "outputs": [],
   "source": [
    "merger_df['name_acquirer_norm'] = merger_df.name_acquirer.apply(normalize_company_name)\n",
    "merger_df['name_acquiree_norm'] = merger_df.name_acquiree.apply(normalize_company_name)\n",
    "\n",
    "merger_df['score'] = merger_df.apply(lambda x: calculate_similarity_core(x.name_acquirer_norm, x.name_acquiree_norm), axis=1)"
   ]
  },
  {
   "cell_type": "code",
   "execution_count": 50,
   "metadata": {},
   "outputs": [],
   "source": [
    "merger_df.sort_values('score', ascending=False).to_excel('merger_score.xlsx', index=False)"
   ]
  },
  {
   "cell_type": "code",
   "execution_count": null,
   "metadata": {},
   "outputs": [],
   "source": []
  }
 ],
 "metadata": {
  "kernelspec": {
   "display_name": ".venv",
   "language": "python",
   "name": "python3"
  },
  "language_info": {
   "codemirror_mode": {
    "name": "ipython",
    "version": 3
   },
   "file_extension": ".py",
   "mimetype": "text/x-python",
   "name": "python",
   "nbconvert_exporter": "python",
   "pygments_lexer": "ipython3",
   "version": "3.12.4"
  }
 },
 "nbformat": 4,
 "nbformat_minor": 2
}
